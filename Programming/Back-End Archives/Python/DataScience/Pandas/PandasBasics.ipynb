{
 "cells": [
  {
   "cell_type": "markdown",
   "metadata": {},
   "source": [
    "# What is Pandas?\n",
    "\n",
    "### Pandas is a powerfull library used to manipulate data"
   ]
  },
  {
   "cell_type": "markdown",
   "metadata": {},
   "source": [
    "# How to use Pandas"
   ]
  },
  {
   "cell_type": "markdown",
   "metadata": {},
   "source": [
    "### <li> Data analysis\n",
    "### <li>Data manipulation\n",
    "### <li>Prepare data\n",
    "### <li>Show data (as graphics, for example)"
   ]
  },
  {
   "cell_type": "markdown",
   "metadata": {},
   "source": [
    "## Let´s start with a basic example."
   ]
  },
  {
   "cell_type": "markdown",
   "metadata": {},
   "source": [
    "#### First we must import the Pandas library"
   ]
  },
  {
   "cell_type": "code",
   "execution_count": 23,
   "metadata": {},
   "outputs": [],
   "source": [
    "import pandas as pd"
   ]
  },
  {
   "cell_type": "markdown",
   "metadata": {},
   "source": [
    "#### This example consists about extract the data and manipulate it from a dictionary called users which contains the data of different people."
   ]
  },
  {
   "cell_type": "code",
   "execution_count": 24,
   "metadata": {},
   "outputs": [],
   "source": [
    "users = {\n",
    "    \"Name\": [\"John\", \"Mary\", \"Bobby\", \"Dean\", \"Sam\"],\n",
    "    \"Surname\": [\"McClane\", \"Christmas\", \"Singer\", \"Winchester\", \"Winchester\"],\n",
    "    \"Email\": [\"john@example.com\", \"mary@example.com\", \"bobby@example.com\", \"dean@example.com\", \"sam@example.com\"],\n",
    "    \"Phone\": [\"123-123-4567\", \"456-987-6543\", \"789-567-8901\", \"654-234-5678\", \"963-678-9012\"],\n",
    "    \"Age\": [12, 27, 22, 30, 24],\n",
    "    \"Address\": [\"New York\", \"Las Vegas\", \"Michigan\", \"Detroit\", \"Los Angeles\"]\n",
    "}"
   ]
  },
  {
   "cell_type": "markdown",
   "metadata": {},
   "source": [
    "#### Now we create a var to manipulate the dataframe. After that, we create another variable refering the one before to detect which of them are 18 years old or more."
   ]
  },
  {
   "cell_type": "code",
   "execution_count": 25,
   "metadata": {},
   "outputs": [
    {
     "name": "stdout",
     "output_type": "stream",
     "text": [
      "    Name     Surname              Email         Phone  Age      Address\n",
      "1   Mary   Christmas   mary@example.com  456-987-6543   27    Las Vegas\n",
      "2  Bobby      Singer  bobby@example.com  789-567-8901   22     Michigan\n",
      "3   Dean  Winchester   dean@example.com  654-234-5678   30      Detroit\n",
      "4    Sam  Winchester    sam@example.com  963-678-9012   24  Los Angeles\n"
     ]
    }
   ],
   "source": [
    "users_df = pd.DataFrame(users)\n",
    "above_age = users_df[users_df[\"Age\"] >= 18]\n",
    "\n",
    "print(above_age)"
   ]
  },
  {
   "cell_type": "markdown",
   "metadata": {},
   "source": [
    "#### Now we can see which of the users are 18 years old or older with their respective data\n",
    "\n",
    "#### The example below shows how to access to Name and Surname. It consists about create a variable called only_names, which contains users_df refering to Name + Space + Surname."
   ]
  },
  {
   "cell_type": "code",
   "execution_count": 26,
   "metadata": {},
   "outputs": [
    {
     "name": "stdout",
     "output_type": "stream",
     "text": [
      "0       John McClane\n",
      "1     Mary Christmas\n",
      "2       Bobby Singer\n",
      "3    Dean Winchester\n",
      "4     Sam Winchester\n",
      "dtype: object\n"
     ]
    }
   ],
   "source": [
    "only_names = users_df[\"Name\"] + \" \" + users_df[ \"Surname\"]\n",
    "print(only_names)"
   ]
  },
  {
   "cell_type": "markdown",
   "metadata": {},
   "source": [
    "#### "
   ]
  },
  {
   "cell_type": "markdown",
   "metadata": {},
   "source": [
    "#### As can be seen, there´s a message at the end of the output. It can be avoid by another way to write the code."
   ]
  },
  {
   "cell_type": "code",
   "execution_count": 27,
   "metadata": {},
   "outputs": [
    {
     "name": "stdout",
     "output_type": "stream",
     "text": [
      "John McClane\n",
      "Mary Christmas\n",
      "Bobby Singer\n",
      "Dean Winchester\n",
      "Sam Winchester\n"
     ]
    }
   ],
   "source": [
    "for name in only_names:\n",
    "    print(name)"
   ]
  },
  {
   "cell_type": "markdown",
   "metadata": {},
   "source": [
    "#### If we want to sort by alphabet, age, or anyhow, we can do it."
   ]
  },
  {
   "cell_type": "code",
   "execution_count": 28,
   "metadata": {},
   "outputs": [
    {
     "name": "stdout",
     "output_type": "stream",
     "text": [
      "    Name     Surname              Email         Phone  Age      Address\n",
      "3   Dean  Winchester   dean@example.com  654-234-5678   30      Detroit\n",
      "1   Mary   Christmas   mary@example.com  456-987-6543   27    Las Vegas\n",
      "4    Sam  Winchester    sam@example.com  963-678-9012   24  Los Angeles\n",
      "2  Bobby      Singer  bobby@example.com  789-567-8901   22     Michigan\n",
      "0   John     McClane   john@example.com  123-123-4567   12     New York\n"
     ]
    }
   ],
   "source": [
    "df_organized = users_df.sort_values(by='Age', ascending=False)\n",
    "print(df_organized)"
   ]
  },
  {
   "cell_type": "code",
   "execution_count": 29,
   "metadata": {},
   "outputs": [
    {
     "name": "stdout",
     "output_type": "stream",
     "text": [
      "    Name     Surname              Email         Phone  Age      Address\n",
      "4    Sam  Winchester    sam@example.com  963-678-9012   24  Los Angeles\n",
      "1   Mary   Christmas   mary@example.com  456-987-6543   27    Las Vegas\n",
      "0   John     McClane   john@example.com  123-123-4567   12     New York\n",
      "3   Dean  Winchester   dean@example.com  654-234-5678   30      Detroit\n",
      "2  Bobby      Singer  bobby@example.com  789-567-8901   22     Michigan\n"
     ]
    }
   ],
   "source": [
    "df_organized = users_df.sort_values(by=\"Name\", ascending=False)\n",
    "print(df_organized)"
   ]
  },
  {
   "cell_type": "code",
   "execution_count": 30,
   "metadata": {},
   "outputs": [
    {
     "name": "stdout",
     "output_type": "stream",
     "text": [
      "0    False\n",
      "1    False\n",
      "2    False\n",
      "3     True\n",
      "4     True\n",
      "Name: Surname, dtype: bool\n"
     ]
    }
   ],
   "source": [
    "print(users_df[\"Surname\"]==\"Winchester\")"
   ]
  },
  {
   "cell_type": "code",
   "execution_count": null,
   "metadata": {},
   "outputs": [],
   "source": []
  }
 ],
 "metadata": {
  "kernelspec": {
   "display_name": "WorkArea",
   "language": "python",
   "name": "python3"
  },
  "language_info": {
   "codemirror_mode": {
    "name": "ipython",
    "version": 3
   },
   "file_extension": ".py",
   "mimetype": "text/x-python",
   "name": "python",
   "nbconvert_exporter": "python",
   "pygments_lexer": "ipython3",
   "version": "3.10.14"
  }
 },
 "nbformat": 4,
 "nbformat_minor": 2
}
